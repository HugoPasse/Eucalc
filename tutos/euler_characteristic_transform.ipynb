{
 "cells": [
  {
   "cell_type": "markdown",
   "id": "77bab898-a87f-4266-a442-3ac4642aa91e",
   "metadata": {},
   "source": [
    "# Euler Characteristic Transform\n",
    "\n",
    "**Author :** V. Lebovici, H. Passe\n",
    "\n",
    "In this notebook, we provide a minimal example of computation of the Euler characteristic transform of weighted cubical complexes using our ```C++``` / ```Python``` library ```Eucalc```. For more details, see [our paper](https://arxiv.org/abs/2405.02256).\n",
    "\n",
    "**NB:** For more detailed tutorial, see ```general_introduction.ipynb```.\n",
    "\n",
    "---"
   ]
  },
  {
   "cell_type": "markdown",
   "id": "a7b1105a",
   "metadata": {},
   "source": [
    "**Preliminary:** adding the right folder to path."
   ]
  },
  {
   "cell_type": "code",
   "execution_count": 2,
   "id": "5bfce34f",
   "metadata": {},
   "outputs": [],
   "source": [
    "import sys\n",
    "sys.path.append('..')"
   ]
  },
  {
   "cell_type": "markdown",
   "id": "c9be0c8a",
   "metadata": {},
   "source": [
    "The original 2D greyscale image."
   ]
  },
  {
   "cell_type": "code",
   "execution_count": 3,
   "id": "3e171cb0-ff6d-4362-9cc8-3173e7e39402",
   "metadata": {},
   "outputs": [
    {
     "data": {
      "image/png": "[encoded data removed]",
      "text/plain": [
       "<Figure size 432x288 with 2 Axes>"
      ]
     },
     "metadata": {
      "needs_background": "light"
     },
     "output_type": "display_data"
    }
   ],
   "source": [
    "import numpy as np\n",
    "import matplotlib.pyplot as plt\n",
    "\n",
    "img = np.array([[0,2,0],[0,1,0],[0,2,3]])\n",
    "plt.imshow(img, origin='lower')\n",
    "plt.axis('off')\n",
    "plt.colorbar()\n",
    "plt.show()"
   ]
  },
  {
   "cell_type": "markdown",
   "id": "0db5e094",
   "metadata": {},
   "source": [
    "Computation of the associated weighted cubical complex."
   ]
  },
  {
   "cell_type": "code",
   "execution_count": 4,
   "id": "7fa4a0ee",
   "metadata": {},
   "outputs": [],
   "source": [
    "import eucalc\n",
    "cplx = eucalc.EmbeddedComplex(img)"
   ]
  },
  {
   "cell_type": "markdown",
   "id": "57d9d1a2",
   "metadata": {},
   "source": [
    "Preprocessing of the critical points and values."
   ]
  },
  {
   "cell_type": "code",
   "execution_count": 5,
   "id": "a3e58dbd",
   "metadata": {},
   "outputs": [],
   "source": [
    "cplx.preproc_ect()"
   ]
  },
  {
   "cell_type": "markdown",
   "id": "d217e2af",
   "metadata": {},
   "source": [
    "Computation of the exact representation of the ECT in a given direction."
   ]
  },
  {
   "cell_type": "code",
   "execution_count": 6,
   "id": "007bc798",
   "metadata": {},
   "outputs": [],
   "source": [
    "direction = [1,1]\n",
    "ect_dir = cplx.compute_euler_characteristic_transform(direction)"
   ]
  },
  {
   "cell_type": "markdown",
   "id": "71536b3a",
   "metadata": {},
   "source": [
    "Vectorization (and plot) of this exact representation."
   ]
  },
  {
   "cell_type": "code",
   "execution_count": null,
   "id": "62b00dd8",
   "metadata": {},
   "outputs": [],
   "source": [
    "N = 100\n",
    "T = np.linspace(-1,1,N)\n",
    "ECT_dir = [ect_dir.evaluate(t) for t in T]"
   ]
  },
  {
   "cell_type": "code",
   "execution_count": 9,
   "id": "397e4072",
   "metadata": {},
   "outputs": [
    {
     "data": {
      "image/png": "[encoded data removed]",
      "text/plain": [
       "<Figure size 432x288 with 1 Axes>"
      ]
     },
     "metadata": {
      "needs_background": "light"
     },
     "output_type": "display_data"
    }
   ],
   "source": [
    "plt.figure()\n",
    "plt.plot(T,ECT_dir)\n",
    "plt.title('ECT in direction %s'%direction)\n",
    "plt.show()"
   ]
  }
 ],
 "metadata": {
  "kernelspec": {
   "display_name": "Python 3 (ipykernel)",
   "language": "python",
   "name": "python3"
  },
  "language_info": {
   "codemirror_mode": {
    "name": "ipython",
    "version": 3
   },
   "file_extension": ".py",
   "mimetype": "text/x-python",
   "name": "python",
   "nbconvert_exporter": "python",
   "pygments_lexer": "ipython3",
   "version": "3.10.12"
  }
 },
 "nbformat": 4,
 "nbformat_minor": 5
}
