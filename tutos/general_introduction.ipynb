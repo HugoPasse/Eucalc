{
 "cells": [
  {
   "cell_type": "markdown",
   "id": "7ce9d930-9418-4dce-9255-3a7d1a41720a",
   "metadata": {},
   "source": [
    "# Eucalc\n",
    "**Authors**: V. Lebovici, H. Passe\n",
    "\n",
    "In this notebook, we provide a detailed introduction to our ```C++``` / ```Python``` library ```Eucalc```, which implements algorithms to compute Euler characteristic transform, Radon transform and hybrid transforms on cubical complexes. For more details, see [our paper](https://arxiv.org/abs/2405.02256).\n",
    "\n",
    "**NB:** For more straightforward examples containing the minimal number of lines to compute topological integral transforms, see each one of the specific tutorials ```euler_characteristic_transform.ipynb```, ```hybrid_transform.ipynb```, ```radon_transform.ipynb```.\n",
    "\n",
    "---"
   ]
  },
  {
   "cell_type": "markdown",
   "id": "3f9f40a1",
   "metadata": {},
   "source": [
    "**Preliminary:** adding the right folder to path."
   ]
  },
  {
   "cell_type": "code",
   "execution_count": 1,
   "id": "4f232b75-cae3-43a3-a0ac-e68264d8483e",
   "metadata": {},
   "outputs": [],
   "source": [
    "import sys\n",
    "sys.path.append('..')"
   ]
  },
  {
   "cell_type": "markdown",
   "id": "0de8a86a-8036-434e-bd43-1e328b022088",
   "metadata": {},
   "source": [
    "### Weighted cubical complexes\n",
    "A *cube* of $\\mathbb{R}^n$ is a subset $C = [a_1,b_1]\\times\\dots\\times [a_n,b_n] \\subseteq \\mathbb{R}^n$ such that $b_i - a_i = b_j - a_j$ whenever $a_i \\neq b_i$ and $a_j \\neq b_j$. A *cubical complex* is simply a finite collection $\\mathcal{C}$ of cubes, called *cells*, such that:\n",
    "- $\\emptyset\\in\\mathcal{C}$,\n",
    "- if $C\\in\\mathcal{C}$ and $C'$ is a face of $C$, then $C'\\in \\mathcal{C}$,\n",
    "- if $C,C'\\in\\mathcal{C}$, then $C\\cap C'\\in\\mathcal{C}$.\n",
    "\n",
    "The *dimension* of a cube the number of indices $i\\in\\{1,\\ldots,n\\}$ such that $a_i \\neq b_i$. \n",
    "\n",
    "A *weighted cubical complex* is the data of a cubical complex together with an integer value associated to each one of its cells, that is, a function $\\varphi:\\mathcal{C}\\to \\mathbb{Z}$.\n",
    "\n",
    "We illustrate this definition with examples of weighted and unweighted cubical complexes. In grey we plot the cube of dimension two, in green cubes of dimension one, and in blue cubes of dimension zero.\n",
    "\n",
    "![Examples of cubical complexes](img/cubical_complexes.png)"
   ]
  },
  {
   "cell_type": "markdown",
   "id": "7aa58b49",
   "metadata": {},
   "source": [
    "### From digital images to weighted cubical complexes\n",
    "As explained in our paper, our implementation of weighted cubical complexes consists in a ```C++``` class ```EmbeddedComplex``` that inherits from the cubical complex class ```Bitmap_cubical_complex``` from the ```GUDHI``` library and additionally stores the embedding coordinates of the vertices in $\\mathbb{R}^n$. \n",
    "By convention, the embedding coordinates of the vertices in $\\mathbb{R}^n$ are evenly spaced and normalized in $[−0.5, 0.5]^n$. \n",
    "By default, one top-dimensional cell is associated to each pixel of the image and the values of lower-dimensional cells are equal to the maximum of the values of their cofaces, that is:\n",
    "$$\\varphi(C) = \\max_{C'\\supset C} \\varphi(C').$$\n",
    "\n",
    "We illustrate the construction of a cubical complex from a 2D digital image below. Consider the following greyscale image:"
   ]
  },
  {
   "cell_type": "code",
   "execution_count": 1,
   "id": "a6941442-a135-4ce5-b55a-3cd15a026b34",
   "metadata": {},
   "outputs": [
    {
     "data": {
      "image/png": "[encoded data removed]",
      "text/plain": [
       "<Figure size 432x288 with 2 Axes>"
      ]
     },
     "metadata": {
      "needs_background": "light"
     },
     "output_type": "display_data"
    }
   ],
   "source": [
    "import numpy as np\n",
    "import matplotlib.pyplot as plt\n",
    "\n",
    "img = np.array([[0,2,0],[0,1,0],[0,2,3]])\n",
    "plt.imshow(img, origin='lower')\n",
    "plt.axis('off')\n",
    "plt.colorbar()\n",
    "plt.show()"
   ]
  },
  {
   "cell_type": "markdown",
   "id": "5dbeb294",
   "metadata": {},
   "source": [
    "We can turn it into a weighted cubical complex using our ```EmbeddedComplex``` class."
   ]
  },
  {
   "cell_type": "code",
   "execution_count": 14,
   "id": "a51813cc",
   "metadata": {},
   "outputs": [],
   "source": [
    "import eucalc\n",
    "cplx = eucalc.EmbeddedComplex(img)"
   ]
  },
  {
   "cell_type": "markdown",
   "id": "156fe243",
   "metadata": {},
   "source": [
    "Weights of the complex are stored in an array following ```GUDHI```'s convention as detailed in [their documentation](https://gudhi.inria.fr/doc/latest/group__cubical__complex.html). We can print this array:"
   ]
  },
  {
   "cell_type": "code",
   "execution_count": 5,
   "id": "d97460d3",
   "metadata": {},
   "outputs": [
    {
     "ename": "AttributeError",
     "evalue": "'eucalc.EmbeddedComplex' object has no attribute 'print_weights'",
     "output_type": "error",
     "traceback": [
      "\u001b[0;31m---------------------------------------------------------------------------\u001b[0m",
      "\u001b[0;31mAttributeError\u001b[0m                            Traceback (most recent call last)",
      "\u001b[0;32m/tmp/ipykernel_389151/4186421068.py\u001b[0m in \u001b[0;36m<module>\u001b[0;34m\u001b[0m\n\u001b[0;32m----> 1\u001b[0;31m \u001b[0mcplx\u001b[0m\u001b[0;34m.\u001b[0m\u001b[0mprint_weights\u001b[0m\u001b[0;34m(\u001b[0m\u001b[0;34m)\u001b[0m\u001b[0;34m\u001b[0m\u001b[0;34m\u001b[0m\u001b[0m\n\u001b[0m",
      "\u001b[0;31mAttributeError\u001b[0m: 'eucalc.EmbeddedComplex' object has no attribute 'print_weights'"
     ]
    }
   ],
   "source": [
    "cplx.print_weights()"
   ]
  },
  {
   "cell_type": "markdown",
   "id": "8f2faee8",
   "metadata": {},
   "source": [
    "Graphically, the weighted cubical complex looks like:\n",
    "\n",
    "![Weighted cubical complex from 2D image](img/weighted_cplx_from_img.png)"
   ]
  },
  {
   "cell_type": "markdown",
   "id": "1469e25d",
   "metadata": {},
   "source": [
    "### Integral transforms\n",
    "Topological integral transforms of weighted cubical complex are recalled in the Section 2.2 of [our paper](https://arxiv.org/abs/2405.02256). For the sake of illustration, we recall the definition of the Euler characteristic transform in the simpler case of cubical complexes.\n",
    "In the remaining of this tutorial, we focus on this specific case.\n",
    "\n",
    "Let $\\mathcal{C}$ be a cubical complex. The *Euler characteristic transform* of $\\mathcal{C}$ denoted by $\\mathrm{ECT}_\\mathcal{C}:\\mathbb{R}^n\\times \\mathbb{R}\\to\\mathbb{Z}$ is defined for each $(\\xi,t)\\in\\mathbb{R}^n\\times\\mathbb{R}$ by:\n",
    "$$\\mathrm{ECT}_\\mathcal{C}(\\xi,t) = \\chi\\big(\\mathcal{C}\\cap \\{\\xi\\leq t\\}\\big),$$\n",
    "where $\\{\\xi\\leq t\\} = \\{x\\in\\mathbb{R}^n : \\langle \\xi,x\\mathbb{R}angle = t\\}$ and where $\\chi$ denotes the Euler characteristic defined by:\n",
    "$$\\chi\\big(\\mathcal{C}\\cap \\{\\xi\\leq t\\}\\big) = \\sum_{C \\cap \\{\\xi\\leq t\\} \\ne \\emptyset} (-1)^{\\dim C}.$$"
   ]
  },
  {
   "cell_type": "markdown",
   "id": "597e22a9-9c21-477a-940b-daa118b2dedc",
   "metadata": {},
   "source": [
    "### Critical points and values\n",
    "To speed up computations, our implementation of topological integral transforms computes critical points in the $2^n$ directions $\\xi\\in\\{\\pm 1\\}^n$. These critical points record the non-trivial changes in Euler characteristic of the sublevel sets $\\mathcal{C}\\cap \\{\\xi\\leq t\\}$ (or level sets for Radon and hybrid transforms) around each vertex of the complex. Critical points and the associated critical values comes in two types, *classical* and *ordinary*, and are defined in the Section 3 of [our paper](https://arxiv.org/abs/2405.02256). The upshot is that after this preprocessing step, the computation of topological integral transforms is linear in the number of critical points. \n",
    "\n",
    "Only classical critical points and values and necessary to compute the Euler characteristic transform, see Lemma 2 of [our paper](https://arxiv.org/abs/2405.02256). We can compute them using the class ```EmbeddedComplex``` as follows:"
   ]
  },
  {
   "cell_type": "code",
   "execution_count": 15,
   "id": "2e8d98d3-3d27-47ec-9e30-43e565629294",
   "metadata": {},
   "outputs": [],
   "source": [
    "cplx.preproc_ect()"
   ]
  },
  {
   "cell_type": "markdown",
   "id": "ccefbd99-7bd2-476d-8516-4d82290e0f17",
   "metadata": {},
   "source": [
    "We can then explore the critical points in each direction $\\xi\\in\\{\\pm 1\\}^n$. Each of these directions is represented by the integer between $0$ and $2^n-1$, called its *index*, whose binary representation is $(\\xi + (1,\\dots,1))/2$. For instance, when $n=2$ and in the direction $\\xi = (1,1)$, we have:"
   ]
  },
  {
   "cell_type": "code",
   "execution_count": 16,
   "id": "e5eb71ae-cd73-45dd-b18e-73a6796465f5",
   "metadata": {},
   "outputs": [
    {
     "name": "stdout",
     "output_type": "stream",
     "text": [
      "Index of [1,1]: 3\n"
     ]
    }
   ],
   "source": [
    "direction = [1,1]\n",
    "index = cplx.get_vector_index(direction)\n",
    "print('Index of [1,1]:', index)"
   ]
  },
  {
   "cell_type": "markdown",
   "id": "fc6563bb-b695-4a01-b9f1-e4c60cdbcb8d",
   "metadata": {},
   "source": [
    "Then we can get the classical critical vertices and the classical critical values. Critical vertices are represented by their indices in ```GUDHI```'s [indexing convention](https://gudhi.inria.fr/doc/latest/group__cubical__complex.html)."
   ]
  },
  {
   "cell_type": "code",
   "execution_count": 17,
   "id": "534184eb-6d94-48d6-8408-58f6a0f8f8fc",
   "metadata": {},
   "outputs": [
    {
     "name": "stdout",
     "output_type": "stream",
     "text": [
      "Critical vertices: [2, 30, 32]\n",
      "Critical values: [2, 1, 1]\n"
     ]
    }
   ],
   "source": [
    "verts = cplx.get_classical_critical_vertices(index)\n",
    "vals = cplx.get_classical_critical_values(index)\n",
    "\n",
    "print('Critical vertices:', verts)\n",
    "print('Critical values:', vals)"
   ]
  },
  {
   "cell_type": "markdown",
   "id": "a49c88f0-db7b-48a2-822b-7227ec89f122",
   "metadata": {},
   "source": [
    "We can compute the coordinates of these critical points in $\\mathbb{R}^n$ for the given direction, and plot them on the original image:"
   ]
  },
  {
   "cell_type": "code",
   "execution_count": 18,
   "id": "634d9dc3-7df2-4543-b7e2-e85fd7b78cf1",
   "metadata": {},
   "outputs": [
    {
     "data": {
      "image/png": "[encoded data removed]",
      "text/plain": [
       "<Figure size 432x288 with 1 Axes>"
      ]
     },
     "metadata": {
      "needs_background": "light"
     },
     "output_type": "display_data"
    }
   ],
   "source": [
    "# Computing coordinates of critical points\n",
    "ptsX,ptsY = [],[]\n",
    "for v in verts:\n",
    "    c = cplx.get_coordinates(v)                             # get coordinates from indices of vertices\n",
    "    ptsX.append(c[0])\n",
    "    ptsY.append(c[1])\n",
    "\n",
    "# Plotting the vertices on the image\n",
    "plt.imshow(img, extent=[-0.5,0.5,-0.5,0.5], origin='lower')\n",
    "plt.scatter(ptsX, ptsY, color='r')                          # plotting critical points in red\n",
    "plt.show()"
   ]
  },
  {
   "cell_type": "markdown",
   "id": "f089fa26-e8b0-48c0-8850-7688c1d7642d",
   "metadata": {},
   "source": [
    "### Exact representation and vectorization of the transform\n",
    "After the preprocessing step, we can compute an exact representation of the ECT in a given direction."
   ]
  },
  {
   "cell_type": "code",
   "execution_count": 33,
   "id": "83afca6c",
   "metadata": {},
   "outputs": [],
   "source": [
    "ect_dir = cplx.compute_euler_characteristic_transform(direction)"
   ]
  },
  {
   "cell_type": "markdown",
   "id": "597811bf",
   "metadata": {},
   "source": [
    "We can then evaluate the ECT at each $t\\in\\mathbb{R}$ as simply as:"
   ]
  },
  {
   "cell_type": "code",
   "execution_count": 37,
   "id": "9e525c89",
   "metadata": {},
   "outputs": [
    {
     "name": "stdout",
     "output_type": "stream",
     "text": [
      "ECT([1, 1], 0) = 3\n"
     ]
    }
   ],
   "source": [
    "t = 0.1\n",
    "val = ect_dir.evaluate(t)\n",
    "print('ECT(%s, %d) = %d'%(direction, t, val))\n"
   ]
  },
  {
   "cell_type": "markdown",
   "id": "005dc9af",
   "metadata": {},
   "source": [
    "Hence we can vectorize and plot:"
   ]
  },
  {
   "cell_type": "code",
   "execution_count": 53,
   "id": "d5ab07a2",
   "metadata": {},
   "outputs": [
    {
     "data": {
      "image/png": "[encoded data removed]",
      "text/plain": [
       "<Figure size 432x288 with 1 Axes>"
      ]
     },
     "metadata": {
      "needs_background": "light"
     },
     "output_type": "display_data"
    }
   ],
   "source": [
    "N = 100\n",
    "T = np.linspace(-1,1,N)\n",
    "ECT_dir = [ect_dir.evaluate(t) for t in T]\n",
    "\n",
    "plt.figure()\n",
    "plt.plot(T,ECT_dir)\n",
    "plt.title('ECT in direction %s'%direction)\n",
    "plt.show()"
   ]
  }
 ],
 "metadata": {
  "kernelspec": {
   "display_name": "Python 3 (ipykernel)",
   "language": "python",
   "name": "python3"
  },
  "language_info": {
   "codemirror_mode": {
    "name": "ipython",
    "version": 3
   },
   "file_extension": ".py",
   "mimetype": "text/x-python",
   "name": "python",
   "nbconvert_exporter": "python",
   "pygments_lexer": "ipython3",
   "version": "3.10.12"
  }
 },
 "nbformat": 4,
 "nbformat_minor": 5
}
