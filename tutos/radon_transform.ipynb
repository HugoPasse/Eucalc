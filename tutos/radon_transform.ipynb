{
 "cells": [
  {
   "cell_type": "markdown",
   "id": "e8b12e33",
   "metadata": {},
   "source": [
    "# Radon Transform\n",
    "\n",
    "**Author :** V. Lebovici, H. Passe\n",
    "\n",
    "In this notebook, we provide a minimal example of computation of the Radon transform of weighted cubical complexes using our ```C++``` / ```Python``` library ```Eucalc```. For more details, see [our paper](https://arxiv.org/abs/2405.02256).\n",
    "\n",
    "**NB:** For more detailed tutorial, see ```general_introduction.ipynb```.\n",
    "\n",
    "---"
   ]
  },
  {
   "cell_type": "markdown",
   "id": "ee3bc812",
   "metadata": {},
   "source": [
    "**Preliminary:** adding the right folder to path."
   ]
  },
  {
   "cell_type": "code",
   "execution_count": 9,
   "id": "1ff2f37d",
   "metadata": {},
   "outputs": [],
   "source": [
    "import sys\n",
    "sys.path.append('..')"
   ]
  },
  {
   "cell_type": "markdown",
   "id": "8acc0adc",
   "metadata": {},
   "source": [
    "The original 2D greyscale image."
   ]
  },
  {
   "cell_type": "code",
   "execution_count": 10,
   "id": "c5c48118",
   "metadata": {},
   "outputs": [
    {
     "data": {
      "image/png": "[encoded data removed]",
      "text/plain": [
       "<Figure size 432x288 with 2 Axes>"
      ]
     },
     "metadata": {
      "needs_background": "light"
     },
     "output_type": "display_data"
    }
   ],
   "source": [
    "import numpy as np\n",
    "import matplotlib.pyplot as plt\n",
    "\n",
    "img = np.array([[0,2,0],[0,1,0],[0,2,3]])\n",
    "plt.imshow(img, origin='lower')\n",
    "plt.axis('off')\n",
    "plt.colorbar()\n",
    "plt.show()"
   ]
  },
  {
   "cell_type": "markdown",
   "id": "4ecd2a06",
   "metadata": {},
   "source": [
    "Computation of the associated weighted cubical complex."
   ]
  },
  {
   "cell_type": "code",
   "execution_count": 11,
   "id": "e5ac231d",
   "metadata": {},
   "outputs": [],
   "source": [
    "import eucalc\n",
    "cplx = eucalc.EmbeddedComplex(img)"
   ]
  },
  {
   "cell_type": "markdown",
   "id": "7547ade2",
   "metadata": {},
   "source": [
    "Preprocessing of the critical points and values."
   ]
  },
  {
   "cell_type": "code",
   "execution_count": 12,
   "id": "e0d28cef",
   "metadata": {},
   "outputs": [],
   "source": [
    "cplx.preproc_radon_transform()"
   ]
  },
  {
   "cell_type": "markdown",
   "id": "66eff790",
   "metadata": {},
   "source": [
    "Computation of the exact representation of the Radon transform in a given direction."
   ]
  },
  {
   "cell_type": "code",
   "execution_count": 13,
   "id": "f4eade2a",
   "metadata": {},
   "outputs": [
    {
     "name": "stdout",
     "output_type": "stream",
     "text": [
      "_Values[0] = 0\n",
      "_Values[0] = 0\n"
     ]
    }
   ],
   "source": [
    "direction = [1,1]\n",
    "radon_dir = cplx.compute_radon_transform(direction)"
   ]
  },
  {
   "cell_type": "markdown",
   "id": "301d8f03",
   "metadata": {},
   "source": [
    "We can evaluate our Radon transform as simply as:"
   ]
  },
  {
   "cell_type": "code",
   "execution_count": 27,
   "id": "830e4dbd",
   "metadata": {},
   "outputs": [
    {
     "name": "stdout",
     "output_type": "stream",
     "text": [
      "1.0\n"
     ]
    }
   ],
   "source": [
    "t = 0.5\n",
    "radon_t = radon_dir.evaluate(t)\n",
    "print(radon_t)"
   ]
  },
  {
   "cell_type": "markdown",
   "id": "39a9c363",
   "metadata": {},
   "source": [
    "We can also vectorize this exact representation and plot the vectorization."
   ]
  },
  {
   "cell_type": "code",
   "execution_count": 14,
   "id": "bcb0db33",
   "metadata": {},
   "outputs": [],
   "source": [
    "N = 100\n",
    "T = np.linspace(-1,1,N)\n",
    "radon_vals = [radon_dir.evaluate(t) for t in T]"
   ]
  },
  {
   "cell_type": "code",
   "execution_count": 15,
   "id": "9b5056f6",
   "metadata": {},
   "outputs": [
    {
     "data": {
      "image/png": "[encoded data removed]",
      "text/plain": [
       "<Figure size 432x288 with 1 Axes>"
      ]
     },
     "metadata": {
      "needs_background": "light"
     },
     "output_type": "display_data"
    }
   ],
   "source": [
    "plt.figure()\n",
    "plt.plot(T, radon_vals)\n",
    "plt.title('Radon transform in direction %s'%direction)\n",
    "plt.show()"
   ]
  }
 ],
 "metadata": {
  "kernelspec": {
   "display_name": "Python 3 (ipykernel)",
   "language": "python",
   "name": "python3"
  },
  "language_info": {
   "codemirror_mode": {
    "name": "ipython",
    "version": 3
   },
   "file_extension": ".py",
   "mimetype": "text/x-python",
   "name": "python",
   "nbconvert_exporter": "python",
   "pygments_lexer": "ipython3",
   "version": "3.10.12"
  }
 },
 "nbformat": 4,
 "nbformat_minor": 5
}
