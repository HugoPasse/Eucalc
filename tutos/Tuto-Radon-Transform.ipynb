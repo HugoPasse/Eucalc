{
 "cells": [
  {
   "cell_type": "markdown",
   "id": "e8b12e33",
   "metadata": {},
   "source": [
    "# Radon Transform in Python\n",
    "\n",
    "**Author :** H. Passe"
   ]
  },
  {
   "cell_type": "code",
   "execution_count": 2,
   "id": "6b30d597",
   "metadata": {},
   "outputs": [],
   "source": [
    "# We first import common python libraries\n",
    "import numpy as np\n",
    "import matplotlib.pyplot as plt\n",
    "import sys\n",
    "# Add directory above to import our module\n",
    "sys.path.append(\"..\")\n",
    "# We also import our library \n",
    "import eucalc"
   ]
  },
  {
   "cell_type": "markdown",
   "id": "15f85c54",
   "metadata": {},
   "source": [
    "## Computing Radon Transform at a point\n",
    "\n",
    "Let's create a cubical from a numpy array :"
   ]
  },
  {
   "cell_type": "code",
   "execution_count": 3,
   "id": "cf40be80",
   "metadata": {},
   "outputs": [],
   "source": [
    "data = np.array([[0,1,0],[1,0,1],[0,0,0]])\n",
    "cub_cplx = eucalc.EmbeddedComplex(data)"
   ]
  },
  {
   "cell_type": "markdown",
   "id": "3f4b84a8",
   "metadata": {},
   "source": [
    "The `cub_cplx` object has class `EmbeddedComplex`. The corresponding complex has sizes `data.shape`. Let's now define a random direction to compute the transform :"
   ]
  },
  {
   "cell_type": "code",
   "execution_count": 4,
   "id": "ee4bdbff",
   "metadata": {},
   "outputs": [
    {
     "name": "stdout",
     "output_type": "stream",
     "text": [
      "[-0.62681908 -0.06745503]\n"
     ]
    }
   ],
   "source": [
    "direction = np.random.randn(2)\n",
    "print(direction)"
   ]
  },
  {
   "cell_type": "markdown",
   "id": "e08690e9",
   "metadata": {},
   "source": [
    "Showing the complex and th direction :"
   ]
  },
  {
   "cell_type": "code",
   "execution_count": 5,
   "id": "5b439615",
   "metadata": {},
   "outputs": [
    {
     "data": {
      "text/plain": [
       "<matplotlib.patches.FancyArrow at 0x7f046eda7dc0>"
      ]
     },
     "execution_count": 5,
     "metadata": {},
     "output_type": "execute_result"
    },
    {
     "data": {
      "image/png": "[encoded data removed]",
      "text/plain": [
       "<Figure size 640x480 with 1 Axes>"
      ]
     },
     "metadata": {},
     "output_type": "display_data"
    }
   ],
   "source": [
    "plt.imshow(data,origin=\"lower\",extent=[-0.5,0.5,-0.5,0.5])\n",
    "normalized_dir = np.divide(direction,3*np.linalg.norm(direction))\n",
    "plt.arrow(0,0,normalized_dir[0],normalized_dir[1], color='r', head_width = 0.05)"
   ]
  },
  {
   "cell_type": "markdown",
   "id": "d3357d60",
   "metadata": {},
   "source": [
    "Using `cub_cplx` and `direction` we can create a `RadonTransform` object :"
   ]
  },
  {
   "cell_type": "code",
   "execution_count": 6,
   "id": "3b3f93c6",
   "metadata": {},
   "outputs": [
    {
     "name": "stdout",
     "output_type": "stream",
     "text": [
      "_Values[0] = 0\n",
      "_Values[0] = 0\n"
     ]
    }
   ],
   "source": [
    "radon = cub_cplx.compute_radon_transform(direction)"
   ]
  },
  {
   "cell_type": "markdown",
   "id": "199e5e0b",
   "metadata": {},
   "source": [
    "We can now use `radon` to compute the Radon transform in direction `direction` for every $t \\in \\mathbb{R}$ :"
   ]
  },
  {
   "cell_type": "code",
   "execution_count": 7,
   "id": "7860ae9e",
   "metadata": {},
   "outputs": [
    {
     "name": "stdout",
     "output_type": "stream",
     "text": [
      "1.0\n"
     ]
    }
   ],
   "source": [
    "t = 0.1\n",
    "radon_t = radon.evaluate(t)\n",
    "print(radon_t)"
   ]
  },
  {
   "cell_type": "markdown",
   "id": "20ab3069",
   "metadata": {},
   "source": [
    "## Plotting Radon Transform\n",
    "\n",
    "The `RadonTransform` class comes with four attributes. As the Radon Transform is piecewise constant in a direction, a `RadonTransform` object stores the values and the changing points of the transform. We can use the `get_attributes()` method to get an array containing the four the following arrays :\n",
    "1. T   : The changing points.\n",
    "2. V   : The values of the Radon transform.\n",
    "3. T_s : The singular points.\n",
    "4. V_s : The values of the transform at the singular points."
   ]
  },
  {
   "cell_type": "code",
   "execution_count": 8,
   "id": "4b4e6ee6",
   "metadata": {},
   "outputs": [],
   "source": [
    "attributes = radon.get_attributes()\n",
    "T = attributes[0]\n",
    "V = attributes[1]\n",
    "T_s = attributes[2]\n",
    "V_s = attributes[3]"
   ]
  },
  {
   "cell_type": "markdown",
   "id": "5ffe1c26",
   "metadata": {},
   "source": [
    "Now we can start plotting the transform :"
   ]
  },
  {
   "cell_type": "code",
   "execution_count": 9,
   "id": "9f45008e",
   "metadata": {},
   "outputs": [
    {
     "data": {
      "image/png": "[encoded data removed]",
      "text/plain": [
       "<Figure size 640x480 with 1 Axes>"
      ]
     },
     "metadata": {},
     "output_type": "display_data"
    }
   ],
   "source": [
    "#First interval\n",
    "plt.plot([-1,T[0]],[0,0],'b')\n",
    "\n",
    "#Last interval\n",
    "plt.plot([T[len(T)-1],1], [V[len(V)-1],V[len(V)-1]], 'b')\n",
    "\n",
    "#Plotting the intervals\n",
    "for i in range(len(T)-1):\n",
    "    plt.plot([T[i], T[i+1]], [V[i], V[i]], 'b')\n",
    "\n",
    "#Plotting the singular points\n",
    "for i in range(len(T_s)):\n",
    "    plt.plot([T_s[i]], [V_s[i]], 'b', marker='o')"
   ]
  },
  {
   "cell_type": "code",
   "execution_count": null,
   "id": "d2fcf6ff",
   "metadata": {},
   "outputs": [],
   "source": []
  }
 ],
 "metadata": {
  "kernelspec": {
   "display_name": "Python 3 (ipykernel)",
   "language": "python",
   "name": "python3"
  },
  "language_info": {
   "codemirror_mode": {
    "name": "ipython",
    "version": 3
   },
   "file_extension": ".py",
   "mimetype": "text/x-python",
   "name": "python",
   "nbconvert_exporter": "python",
   "pygments_lexer": "ipython3",
   "version": "3.10.12"
  }
 },
 "nbformat": 4,
 "nbformat_minor": 5
}
