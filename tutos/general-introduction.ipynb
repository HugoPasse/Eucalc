{
 "cells": [
  {
   "cell_type": "markdown",
   "id": "7ce9d930-9418-4dce-9255-3a7d1a41720a",
   "metadata": {},
   "source": [
    "# Eucalc\n",
    "**Authors**: V. Lebovici, H. Passe\n",
    "\n",
    "In this notebook, we provide a detailed introduction to our ```C++``` / ```Python``` library ```Eucalc```, which implements algorithms to compute Euler characteristic transform, Radon transform and hybrid transforms on cubical complexes. For more details, see [our paper](https://arxiv.org/abs/2405.02256).\n",
    "\n",
    "**NB:** We try to provide enough details to understand our implementation. For a more straightforward example, see ```minimal_example.ipynb```.\n",
    "\n",
    "---"
   ]
  },
  {
   "cell_type": "markdown",
   "id": "3f9f40a1",
   "metadata": {},
   "source": [
    "**Preliminary:** adding the right folder to path."
   ]
  },
  {
   "cell_type": "code",
   "execution_count": 140,
   "id": "4f232b75-cae3-43a3-a0ac-e68264d8483e",
   "metadata": {},
   "outputs": [],
   "source": [
    "import sys\n",
    "sys.path.append('..')"
   ]
  },
  {
   "cell_type": "markdown",
   "id": "0de8a86a-8036-434e-bd43-1e328b022088",
   "metadata": {},
   "source": [
    "### Weighted cubical complexes\n",
    "A *cube* of $\\mathbb{R}^n$ is a subset $C = [a_1,b_1]\\times\\dots\\times [a_n,b_n] \\subseteq \\mathbb{R}^n$ such that $b_i - a_i = b_j - a_j$ whenever $a_i \\neq b_i$ and $a_j \\neq b_j$. A *cubical complex* is simply a finite collection $\\mathcal{C}$ of cubes, called *cells*, such that:\n",
    "- $\\emptyset\\in\\mathcal{C}$,\n",
    "- if $C\\in\\mathcal{C}$ and $C'$ is a face of $C$, then $C'\\in \\mathcal{C}$,\n",
    "- if $C,C'\\in\\mathcal{C}$, then $C\\cap C'\\in\\mathcal{C}$.\n",
    "\n",
    "The *dimension* of a cube the number of indices $i\\in\\{1,\\ldots,n\\}$ such that $a_i \\neq b_i$. \n",
    "\n",
    "A *weighted cubical complex* is the data of a cubical complex together with an integer value associated to each one of its cells, that is, a function $\\varphi:\\mathcal{C}\\to \\mathbb{Z}$.\n",
    "\n",
    "We illustrate this definition with an example. In grey we plot the cube of dimension two, in green cubes of dimension one, and in blue cubes of dimension zero."
   ]
  },
  {
   "cell_type": "code",
   "execution_count": 151,
   "id": "707f3c64-5f19-453d-ba16-0a35f55d908c",
   "metadata": {},
   "outputs": [
    {
     "data": {
      "image/png": "[encoded data removed]",
      "text/plain": [
       "<Figure size 432x288 with 2 Axes>"
      ]
     },
     "metadata": {},
     "output_type": "display_data"
    }
   ],
   "source": [
    "import numpy as np\n",
    "import matplotlib.pyplot as plt\n",
    "\n",
    "# Setting up the plot\n",
    "fig, axs = plt.subplots(1, 2, subplot_kw={'xticks': [], 'yticks': []})\n",
    "axs[0].set_xlim(0, 3)\n",
    "axs[0].set_ylim(0, 3)\n",
    "axs[0].set_box_aspect(1)\n",
    "axs[1].set_xlim(0, 3)\n",
    "axs[1].set_ylim(0, 3)\n",
    "axs[1].set_box_aspect(1)\n",
    "\n",
    "# Plotting 2-dimensional cell\n",
    "axs[0].add_patch(plt.Rectangle((2, 1), 1, 1, facecolor=\"black\",alpha=0.3))\n",
    "\n",
    "# Plotting 1-dimensional cells\n",
    "oneDimCellsX = [[1,2],[2,2],[2,3],[2,3],[2,2],[3,3]]\n",
    "oneDimCellsY = [[1,1],[1,2],[1,1],[2,2],[2,3],[1,2]]\n",
    "\n",
    "for i, x in enumerate(oneDimCellsX):\n",
    "    axs[0].plot(x,oneDimCellsY[i],'g',linewidth=2)\n",
    "    \n",
    "# Plotting 0-dimensional cells\n",
    "axs[0].scatter([1,2,2,2,3,3,3],[1,1,2,3,2,3,1],c='cyan',marker='s')\n",
    "\n",
    "# Plotting 2-dimensional cells\n",
    "axs[1].add_patch(plt.Rectangle((1, 1), 1, 1, facecolor=\"black\",alpha=0.3))\n",
    "axs[1].add_patch(plt.Rectangle((1, 0), 1, 1, facecolor=\"black\",alpha=0.3))\n",
    "axs[1].add_patch(plt.Rectangle((1, 2), 1, 1, facecolor=\"black\",alpha=0.3))\n",
    "axs[1].add_patch(plt.Rectangle((2, 2), 1, 1, facecolor=\"black\",alpha=0.3))\n",
    "axs[1].text(1.45, 2.45, '2')                                                            # plotting the weights\n",
    "axs[1].text(2.45, 2.45, '3') \n",
    "axs[1].text(1.45, 1.45, '1') \n",
    "axs[1].text(1.45, 0.45, '2')\n",
    "\n",
    "# Plotting 1-dimensional cells\n",
    "oneDimCellsX = [[1,1],[2,2],[1,2],[1,2],[1,2],[1,2],[2,3],[2,3],[3,3]]\n",
    "oneDimCellsY = [[0,3],[0,3],[0,0],[1,1],[2,2],[3,3],[3,3],[2,2],[2,3]]\n",
    "for i, x in enumerate(oneDimCellsX):\n",
    "    axs[1].plot(x,oneDimCellsY[i],'g',linewidth=2)\n",
    "axs[1].text(0.95, 2.45, '2')                                                            # plotting the weights\n",
    "axs[1].text(0.95, 1.45, '1')\n",
    "axs[1].text(0.95, 0.45, '2')\n",
    "axs[1].text(1.95, 2.45, '3')\n",
    "axs[1].text(1.95, 1.45, '1')\n",
    "axs[1].text(1.95, 0.45, '2')\n",
    "axs[1].text(1.45, 1.95, '2')\n",
    "axs[1].text(1.45, 2.95, '2')\n",
    "axs[1].text(1.45, 0.95, '2')\n",
    "axs[1].text(1.45, -0.05, '2')\n",
    "axs[1].text(2.45, 1.95, '3')\n",
    "axs[1].text(2.45, 2.95, '3')\n",
    "axs[1].text(2.95, 2.45, '3')\n",
    "\n",
    "# Plotting 0-dimensional cells\n",
    "axs[1].scatter([1,1,1,1,2,2,2,2,3,3], [0,1,2,3,0,1,2,3,2,3], c='cyan', marker='s')\n",
    "axs[1].text(0.95, 2.95, '2')                                                            # plotting the weights\n",
    "axs[1].text(0.95, 1.95, '2')\n",
    "axs[1].text(0.95, 0.95, '2')\n",
    "axs[1].text(0.95, -0.05, '2')\n",
    "axs[1].text(1.95, 2.95, '3')\n",
    "axs[1].text(1.95, 1.95, '3')\n",
    "axs[1].text(1.95, 0.95, '2')\n",
    "axs[1].text(1.95, -0.05, '2')\n",
    "axs[1].text(2.95, 2.95, '3')\n",
    "axs[1].text(2.95, 1.95, '3')\n",
    "\n",
    "plt.show()"
   ]
  },
  {
   "cell_type": "markdown",
   "id": "7aa58b49",
   "metadata": {},
   "source": [
    "As explained in our paper, our implementation of weighted cubical complexes consists in a ```C++``` class ```EmbeddedComplex``` that inherits from the cubical complex class ```Bitmap_cubical_complex``` from the ```GUDHI``` library and additionally stores the embedding coordinates of the vertices in $\\mathbb{R}^n$. \n",
    "By convention, the embedding coordinates of the vertices in $\\mathbb{R}^n$ are evenly spaced and normalized in $[−0.5, 0.5]^n$. \n",
    "By default, one top-dimensional cell is associated to each pixel of the image and the values of lower-dimensional cells are equal to the maximum of the values of their cofaces, that is:\n",
    "$$\\varphi(C) = \\max_{C'\\supset C} \\varphi(C').$$\n",
    "\n",
    "We illustrate the construction of a cubical complex from a 2D digital image below. Consider the following greyscale image:"
   ]
  },
  {
   "cell_type": "code",
   "execution_count": 43,
   "id": "a6941442-a135-4ce5-b55a-3cd15a026b34",
   "metadata": {},
   "outputs": [
    {
     "data": {
      "image/png": "[encoded data removed]",
      "text/plain": [
       "<Figure size 432x288 with 2 Axes>"
      ]
     },
     "metadata": {
      "needs_background": "light"
     },
     "output_type": "display_data"
    }
   ],
   "source": [
    "img = np.array([[0,2,0],[0,1,0],[0,2,3]])\n",
    "plt.imshow(img, origin='lower')\n",
    "plt.axis('off')\n",
    "plt.colorbar()\n",
    "plt.show()"
   ]
  },
  {
   "cell_type": "markdown",
   "id": "5dbeb294",
   "metadata": {},
   "source": [
    "We can turn it into a weighted cubical complex using our ```EmbeddedComplex``` class."
   ]
  },
  {
   "cell_type": "code",
   "execution_count": 142,
   "id": "a51813cc",
   "metadata": {},
   "outputs": [],
   "source": [
    "from eucalc import EmbeddedComplex\n",
    "cplx = eucalc.EmbeddedComplex(img)"
   ]
  },
  {
   "cell_type": "markdown",
   "id": "156fe243",
   "metadata": {},
   "source": [
    "Weights of the complex are stored in an array following ```GUDHI```'s convention as detailed in [their documentation](https://gudhi.inria.fr/doc/latest/group__cubical__complex.html). We can print this array:"
   ]
  },
  {
   "cell_type": "code",
   "execution_count": 143,
   "id": "d97460d3",
   "metadata": {},
   "outputs": [
    {
     "ename": "AttributeError",
     "evalue": "'eucalc.EmbeddedComplex' object has no attribute 'print_weights'",
     "output_type": "error",
     "traceback": [
      "\u001b[0;31m---------------------------------------------------------------------------\u001b[0m",
      "\u001b[0;31mAttributeError\u001b[0m                            Traceback (most recent call last)",
      "\u001b[0;32m/tmp/ipykernel_332184/4186421068.py\u001b[0m in \u001b[0;36m<module>\u001b[0;34m\u001b[0m\n\u001b[0;32m----> 1\u001b[0;31m \u001b[0mcplx\u001b[0m\u001b[0;34m.\u001b[0m\u001b[0mprint_weights\u001b[0m\u001b[0;34m(\u001b[0m\u001b[0;34m)\u001b[0m\u001b[0;34m\u001b[0m\u001b[0;34m\u001b[0m\u001b[0m\n\u001b[0m",
      "\u001b[0;31mAttributeError\u001b[0m: 'eucalc.EmbeddedComplex' object has no attribute 'print_weights'"
     ]
    }
   ],
   "source": [
    "cplx.print_weights()"
   ]
  },
  {
   "cell_type": "markdown",
   "id": "8f2faee8",
   "metadata": {},
   "source": [
    "Graphically, the weighted cubical complex looks like:"
   ]
  },
  {
   "cell_type": "code",
   "execution_count": 138,
   "id": "aa00adc3",
   "metadata": {},
   "outputs": [
    {
     "data": {
      "image/png": "[encoded data removed]",
      "text/plain": [
       "<Figure size 432x288 with 1 Axes>"
      ]
     },
     "metadata": {
      "needs_background": "light"
     },
     "output_type": "display_data"
    }
   ],
   "source": [
    "# Setting up the figure\n",
    "fig, ax = plt.subplots()\n",
    "ax.set_xlim(0, 3)\n",
    "ax.set_ylim(0, 3)\n",
    "ax.set_box_aspect(1)\n",
    "ax.set_xticks(ax.get_xticks()); ax.set_yticks(ax.get_yticks())\n",
    "ax.set_xticklabels(np.round(np.linspace(-0.5,0.5,7),2))\n",
    "ax.set_yticklabels(np.round(np.linspace(-0.5,0.5,7),2))\n",
    "\n",
    "# Plotting top-dimensional cells\n",
    "ax.add_patch(plt.Rectangle((1, 1), 1, 1, facecolor=\"black\",alpha=0.3))\n",
    "ax.add_patch(plt.Rectangle((1, 0), 1, 1, facecolor=\"black\",alpha=0.3))\n",
    "ax.add_patch(plt.Rectangle((1, 2), 1, 1, facecolor=\"black\",alpha=0.3))\n",
    "ax.add_patch(plt.Rectangle((2, 2), 1, 1, facecolor=\"black\",alpha=0.3))\n",
    "ax.text(1.45, 2.45, '2')                                                            # plotting the weights\n",
    "ax.text(2.45, 2.45, '3') \n",
    "ax.text(1.45, 1.45, '1') \n",
    "ax.text(1.45, 0.45, '2')\n",
    "\n",
    "# Plotting one-dimensional cells\n",
    "oneDimCellsX = [[1,1],[2,2],[1,2],[1,2],[1,2],[1,2],[2,3],[2,3],[3,3]]\n",
    "oneDimCellsY = [[0,3],[0,3],[0,0],[1,1],[2,2],[3,3],[3,3],[2,2],[2,3]]\n",
    "for i, x in enumerate(oneDimCellsX):\n",
    "    ax.plot(x,oneDimCellsY[i],'g',linewidth=2)\n",
    "ax.text(0.95, 2.45, '2')                                                            # plotting the weights\n",
    "ax.text(0.95, 1.45, '1')\n",
    "ax.text(0.95, 0.45, '2')\n",
    "ax.text(1.95, 2.45, '3')\n",
    "ax.text(1.95, 1.45, '1')\n",
    "ax.text(1.95, 0.45, '2')\n",
    "ax.text(1.45, 1.95, '2')\n",
    "ax.text(1.45, 2.95, '2')\n",
    "ax.text(1.45, 0.95, '2')\n",
    "ax.text(1.45, -0.05, '2')\n",
    "ax.text(2.45, 1.95, '3')\n",
    "ax.text(2.45, 2.95, '3')\n",
    "ax.text(2.95, 2.45, '3')\n",
    "\n",
    "# Plotting zero-dimensional cells\n",
    "ax.scatter([1,1,1,1,2,2,2,2,3,3], [0,1,2,3,0,1,2,3,2,3], c='cyan', marker='s')\n",
    "ax.text(0.95, 2.95, '2')                                                            # plotting the weights\n",
    "ax.text(0.95, 1.95, '2')\n",
    "ax.text(0.95, 0.95, '2')\n",
    "ax.text(0.95, -0.05, '2')\n",
    "ax.text(1.95, 2.95, '3')\n",
    "ax.text(1.95, 1.95, '3')\n",
    "ax.text(1.95, 0.95, '2')\n",
    "ax.text(1.95, -0.05, '2')\n",
    "ax.text(2.95, 2.95, '3')\n",
    "ax.text(2.95, 1.95, '3')\n",
    "\n",
    "plt.show()\n"
   ]
  },
  {
   "cell_type": "markdown",
   "id": "1469e25d",
   "metadata": {},
   "source": [
    "## Critical points and critical values"
   ]
  },
  {
   "cell_type": "markdown",
   "id": "597e22a9-9c21-477a-940b-daa118b2dedc",
   "metadata": {},
   "source": [
    "To compute the critical points one need to initalize one of the transforms, for instance lets do it for the ECT. Therefore it gives access to classical critical vertices/values."
   ]
  },
  {
   "cell_type": "code",
   "execution_count": 6,
   "id": "2e8d98d3-3d27-47ec-9e30-43e565629294",
   "metadata": {},
   "outputs": [],
   "source": [
    "# Init ect\n",
    "cplx.preproc_ect()"
   ]
  },
  {
   "cell_type": "markdown",
   "id": "ccefbd99-7bd2-476d-8516-4d82290e0f17",
   "metadata": {},
   "source": [
    "Then we chose a direction and compute its index."
   ]
  },
  {
   "cell_type": "code",
   "execution_count": 7,
   "id": "e5eb71ae-cd73-45dd-b18e-73a6796465f5",
   "metadata": {},
   "outputs": [],
   "source": [
    "direction = [1,1]\n",
    "index = cplx.get_vector_index(direction)"
   ]
  },
  {
   "cell_type": "markdown",
   "id": "fc6563bb-b695-4a01-b9f1-e4c60cdbcb8d",
   "metadata": {},
   "source": [
    "Then we can print the classical critical vertices and the classical critical values."
   ]
  },
  {
   "cell_type": "code",
   "execution_count": 8,
   "id": "534184eb-6d94-48d6-8408-58f6a0f8f8fc",
   "metadata": {},
   "outputs": [
    {
     "data": {
      "text/plain": [
       "([14, 2, 16], [1, 1, -1])"
      ]
     },
     "execution_count": 8,
     "metadata": {},
     "output_type": "execute_result"
    }
   ],
   "source": [
    "verts = cplx.get_classical_critical_vertices(index)\n",
    "vals = cplx.get_classical_critical_values(index)\n",
    "\n",
    "verts,vals"
   ]
  },
  {
   "cell_type": "markdown",
   "id": "a49c88f0-db7b-48a2-822b-7227ec89f122",
   "metadata": {},
   "source": [
    "We can have a look at these points using *get_vertex_coordinates* to switch from indexing to coordinates."
   ]
  },
  {
   "cell_type": "code",
   "execution_count": 9,
   "id": "634d9dc3-7df2-4543-b7e2-e85fd7b78cf1",
   "metadata": {},
   "outputs": [
    {
     "data": {
      "image/png": "[encoded data removed]",
      "text/plain": [
       "<Figure size 640x480 with 1 Axes>"
      ]
     },
     "metadata": {},
     "output_type": "display_data"
    },
    {
     "data": {
      "text/plain": [
       "([-0.5, -0.16666666666666666, -0.16666666666666666],\n",
       " [-0.16666666666666666, -0.5, -0.16666666666666666])"
      ]
     },
     "execution_count": 9,
     "metadata": {},
     "output_type": "execute_result"
    }
   ],
   "source": [
    "ptsX,ptsY = [],[]\n",
    "for v in verts:\n",
    "    c = cplx.get_coordinates(v)\n",
    "    ptsX.append(c[0])\n",
    "    ptsY.append(c[1])\n",
    "\n",
    "# Plot\n",
    "plt.imshow(np.flip(img,axis=0),extent=[-0.5,0.5,-0.5,0.5])\n",
    "plt.arrow(0,0,direction[0]/10,direction[1]/10,length_includes_head=True,head_width=0.02, head_length=0.02)\n",
    "plt.scatter(ptsX,ptsY)\n",
    "plt.show()\n",
    "\n",
    "ptsX,ptsY"
   ]
  },
  {
   "cell_type": "markdown",
   "id": "f089fa26-e8b0-48c0-8850-7688c1d7642d",
   "metadata": {},
   "source": [
    "In the image above, the chosen direction is represented by an arrow and the critical vertices are the blue dots."
   ]
  }
 ],
 "metadata": {
  "kernelspec": {
   "display_name": "Python 3 (ipykernel)",
   "language": "python",
   "name": "python3"
  },
  "language_info": {
   "codemirror_mode": {
    "name": "ipython",
    "version": 3
   },
   "file_extension": ".py",
   "mimetype": "text/x-python",
   "name": "python",
   "nbconvert_exporter": "python",
   "pygments_lexer": "ipython3",
   "version": "3.10.12"
  }
 },
 "nbformat": 4,
 "nbformat_minor": 5
}
