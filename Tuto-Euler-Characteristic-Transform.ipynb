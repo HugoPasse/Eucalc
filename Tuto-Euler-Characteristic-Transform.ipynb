{
 "cells": [
  {
   "cell_type": "markdown",
   "id": "77bab898-a87f-4266-a442-3ac4642aa91e",
   "metadata": {},
   "source": [
    "# Euler Characteristic Transform in Python\n",
    "\n",
    "**Author :** H. Passe"
   ]
  },
  {
   "cell_type": "code",
   "execution_count": null,
   "id": "3e171cb0-ff6d-4362-9cc8-3173e7e39402",
   "metadata": {},
   "outputs": [],
   "source": []
  }
 ],
 "metadata": {
  "kernelspec": {
   "display_name": "Python 3 (ipykernel)",
   "language": "python",
   "name": "python3"
  },
  "language_info": {
   "codemirror_mode": {
    "name": "ipython",
    "version": 3
   },
   "file_extension": ".py",
   "mimetype": "text/x-python",
   "name": "python",
   "nbconvert_exporter": "python",
   "pygments_lexer": "ipython3",
   "version": "3.10.12"
  }
 },
 "nbformat": 4,
 "nbformat_minor": 5
}
