{
 "cells": [
  {
   "cell_type": "markdown",
   "id": "7ce9d930-9418-4dce-9255-3a7d1a41720a",
   "metadata": {},
   "source": [
    "# Eucalc\n",
    "**Author**: H. Passe"
   ]
  },
  {
   "cell_type": "markdown",
   "id": "a7bd6510-6e68-42eb-87e5-e028504e98cd",
   "metadata": {},
   "source": [
    "Eucalc is a C++ / Python library that implements algorithms to compute hybrid transforms, Radon transform and Euler characteristic transform on cubical complexes. In this notebook we aim to give details on the framework of both the transforms and our library. ***refer to paper in some way***."
   ]
  },
  {
   "cell_type": "code",
   "execution_count": 3,
   "id": "4f232b75-cae3-43a3-a0ac-e68264d8483e",
   "metadata": {},
   "outputs": [],
   "source": [
    "# We first import common python libraries\n",
    "import numpy as np\n",
    "import matplotlib.pyplot as plt\n",
    "# We also import our library\n",
    "import eucalc"
   ]
  },
  {
   "cell_type": "markdown",
   "id": "0de8a86a-8036-434e-bd43-1e328b022088",
   "metadata": {},
   "source": [
    "## Cubical complexes"
   ]
  },
  {
   "cell_type": "markdown",
   "id": "70036f9c-8007-45d3-8faf-ae170305a586",
   "metadata": {},
   "source": [
    "First we define a *cube* of $\\mathbb{R}^n$ as a subset $[a_1,b_1]\\times\\dots\\times [a_n,b_n] \\subseteq \\mathbb{R}^n$ such that if $a_i \\neq b_i$ and $a_j \\neq b_j$ then $b_i - a_i = b_j - a_j$. A cubical complex is simply a finite collection of cubes. We call the dimension of a cell the number of indices such that $b_i \\neq a_i$.\n",
    "\n",
    "We illustrate this definition with an example plot."
   ]
  },
  {
   "cell_type": "code",
   "execution_count": 4,
   "id": "707f3c64-5f19-453d-ba16-0a35f55d908c",
   "metadata": {},
   "outputs": [
    {
     "data": {
      "text/plain": [
       "[]"
      ]
     },
     "execution_count": 4,
     "metadata": {},
     "output_type": "execute_result"
    },
    {
     "data": {
      "image/png": "[encoded data removed]",
      "text/plain": [
       "<Figure size 640x480 with 1 Axes>"
      ]
     },
     "metadata": {},
     "output_type": "display_data"
    }
   ],
   "source": [
    "# Setting up the plot\n",
    "fig, ax = plt.subplots()\n",
    "ax.set_xlim(0, 4)\n",
    "ax.set_ylim(0, 4)\n",
    "ax.set_box_aspect(1)\n",
    "\n",
    "# Adding 2-dimensional cell\n",
    "ax.add_patch(plt.Rectangle((2, 1), 1, 1, facecolor=\"black\",alpha=0.3))\n",
    "# Adding some 1 dimensional cells\n",
    "oneDimCellsX = [[1,2],[2,2],[2,2]]\n",
    "oneDimCellsY = [[1,1],[1,2],[2,3]]\n",
    "for i in range(len(oneDimCellsX)):\n",
    "    ax.plot(oneDimCellsX[i],oneDimCellsY[i],'g',linewidth=2)\n",
    "    \n",
    "# Adding zero-dimensional cells\n",
    "ax.scatter([2,2,3,3],[1,2,2,3],c='cyan',marker='s')\n",
    "\n",
    "# Plotting\n",
    "plt.plot()"
   ]
  },
  {
   "cell_type": "markdown",
   "id": "c60dea81-bc5c-43d6-a0a9-b9c930c95a02",
   "metadata": {},
   "source": [
    "In grey we have a cube of dimension two, $[2,3]\\times[1,2]$. In green cubes of dimension one, $[1,2]\\times[1,1]$, $[2,2]\\times[1,2]$ and $[2,2]\\times[2,3]$. And in blue cubes of dimension zero, $[2,2]\\times[1,1]$, $[2,2]\\times[2,2]$, $[3,3]\\times[2,2]$ and $[3,3]\\times[3,3]$.\n",
    "\n",
    "So we have a way to reprensent binary images as cubical complexes by replacing each white pixel by a 2 dimensional cell along with its contour. For instance"
   ]
  },
  {
   "cell_type": "code",
   "execution_count": 34,
   "id": "a6941442-a135-4ce5-b55a-3cd15a026b34",
   "metadata": {},
   "outputs": [
    {
     "data": {
      "text/plain": [
       "<matplotlib.collections.PathCollection at 0x7f948fca1ba0>"
      ]
     },
     "execution_count": 34,
     "metadata": {},
     "output_type": "execute_result"
    },
    {
     "data": {
      "image/png": "[encoded data removed]",
      "text/plain": [
       "<Figure size 640x480 with 2 Axes>"
      ]
     },
     "metadata": {},
     "output_type": "display_data"
    }
   ],
   "source": [
    "img = np.array([[0,1,0],[0,1,0],[0,1,1]])\n",
    "fig, axs = plt.subplots(1, 2, subplot_kw={'xticks': [], 'yticks': []})\n",
    "axs[1].set_xlim(0, 3)\n",
    "axs[1].set_ylim(0, 3)\n",
    "axs[1].set_box_aspect(1)\n",
    "\n",
    "# The image\n",
    "axs[0].imshow(img)\n",
    "\n",
    "# The complex\n",
    "axs[1].add_patch(plt.Rectangle((1, 1), 1, 1, facecolor=\"black\",alpha=0.3))\n",
    "axs[1].add_patch(plt.Rectangle((1, 0), 1, 1, facecolor=\"black\",alpha=0.3))\n",
    "axs[1].add_patch(plt.Rectangle((1, 2), 1, 1, facecolor=\"black\",alpha=0.3))\n",
    "axs[1].add_patch(plt.Rectangle((2, 0), 1, 1, facecolor=\"black\",alpha=0.3))\n",
    "oneDimCellsX = [[1,1],[2,2],[1,2],[1,2],[1,2],[1,2],[2,3],[2,3],[3,3]]\n",
    "oneDimCellsY = [[0,3],[0,3],[0,0],[1,1],[2,2],[3,3],[0,0],[1,1],[0,1]]\n",
    "for i in range(len(oneDimCellsX)):\n",
    "    axs[1].plot(oneDimCellsX[i],oneDimCellsY[i],'g',linewidth=2)\n",
    "axs[1].scatter([1,1,1,1,2,2,2,2,3,3],[0,1,2,3,0,1,2,3,0,1],c='cyan',marker='s')"
   ]
  },
  {
   "cell_type": "markdown",
   "id": "dfc10519-7d38-46b1-9c42-ffef47e70cb1",
   "metadata": {},
   "source": [
    "This also works for 3d scans\n",
    "\n",
    "Cubical complexes can also be valued, it suffices to associate a value to each cell of it. We call this valuation the *filtration* of the complex. The question that arises is : Wich value should be associated to lower dimensional cells between multiple two-dimensional ones that have different values ? For instance, on the following plot, green cell can be either 1 or 2 and blue cell can be 0, 1, 2 or 3."
   ]
  },
  {
   "cell_type": "code",
   "execution_count": 59,
   "id": "9135379d-179b-45fa-9816-4796e393316b",
   "metadata": {},
   "outputs": [
    {
     "data": {
      "text/plain": [
       "Text(2.45, 2.45, '3')"
      ]
     },
     "execution_count": 59,
     "metadata": {},
     "output_type": "execute_result"
    },
    {
     "data": {
      "image/png": "[encoded data removed]",
      "text/plain": [
       "<Figure size 640x480 with 2 Axes>"
      ]
     },
     "metadata": {},
     "output_type": "display_data"
    }
   ],
   "source": [
    "fig, axs = plt.subplots(1, 2, subplot_kw={'xticks': [], 'yticks': []})\n",
    "for i in [0,1]:\n",
    "    axs[i].set_xlim(0, 4)\n",
    "    axs[i].set_ylim(0, 4)\n",
    "    axs[i].set_box_aspect(1)\n",
    "\n",
    "# Left image\n",
    "axs[0].add_patch(plt.Rectangle((1, 1), 1, 1, facecolor=\"black\",alpha=0.3))\n",
    "axs[0].add_patch(plt.Rectangle((1, 2), 1, 1, facecolor=\"black\",alpha=0.3))\n",
    "axs[0].plot([1,2],[2,2],'g',linewidth=2)\n",
    "axs[0].text(1.45, 1.45, '1')\n",
    "axs[0].text(1.45, 2.45, '2')\n",
    "\n",
    "# Left image\n",
    "axs[1].add_patch(plt.Rectangle((1, 1), 1, 1, facecolor=\"black\",alpha=0.3))\n",
    "axs[1].add_patch(plt.Rectangle((1, 2), 1, 1, facecolor=\"black\",alpha=0.3))\n",
    "axs[1].add_patch(plt.Rectangle((2, 2), 1, 1, facecolor=\"black\",alpha=0.3))\n",
    "axs[1].scatter([2],[2],c='cyan',marker='s')\n",
    "axs[1].text(1.45, 1.45, '1')\n",
    "axs[1].text(1.45, 2.45, '2')\n",
    "axs[1].text(2.45, 2.45, '3')"
   ]
  },
  {
   "cell_type": "markdown",
   "id": "4b02d040-100f-4003-904e-a7b0d559a2e9",
   "metadata": {},
   "source": [
    "To chose decide which filtration values should be given to lower dimension cells, we have two possibilities in Euclac *lower star filatration* and *upper star filtration*. The first attributes to the cell the minimal filtration value of all of its higher dimensional neighbouring cells. The last attributes the max.\n",
    "\n",
    "In our previous example :\n",
    "For the lower star filtration the green cell would be given value 1 and the blue cell value 0.\n",
    "For the upper star filtration the green cell would be given value 2 and the blue cell value 3."
   ]
  },
  {
   "cell_type": "markdown",
   "id": "5ca4b550-c86c-43db-80c4-fbf52451e02e",
   "metadata": {},
   "source": [
    "## Cubical complexes in Eucalc\n",
    "\n",
    "Everything that we saw above is implemented in Eucalc. A cubical complex can be created using a numpy array representing the value of the higher dimensional cells. The dimension is automatically parsed from the array and the lower dimensional cells are computed using upper star or lower star filtration."
   ]
  },
  {
   "cell_type": "code",
   "execution_count": 80,
   "id": "22c24aa4-d423-4b18-8bce-56c703998611",
   "metadata": {},
   "outputs": [
    {
     "data": {
      "image/png": "[encoded data removed]",
      "text/plain": [
       "<Figure size 640x480 with 1 Axes>"
      ]
     },
     "metadata": {},
     "output_type": "display_data"
    },
    {
     "name": "stderr",
     "output_type": "stream",
     "text": [
      "Filtration : \n",
      "[0, 0, 0, 0, 0, 1, 1, ]\n",
      "0, 0, 0, 0, 0, 1, 1, ]\n",
      "0, 0, 0, 0, 0, 1, 1, ]\n",
      "1, 1, 1, 1, 1, 1, 1, ]\n",
      "0, 0, 0, 1, 0, 0, 0, ]\n",
      "0, 0, 0, 1, 0, 0, 0, ]\n",
      "0, 0, 0, 1, 0, 0, 0, ]\n",
      "]\n"
     ]
    }
   ],
   "source": [
    "img = np.array([[0,1,0],[1,1,1],[0,0,1]])\n",
    "\n",
    "# Because indexing are different in Eucalc and Numpy are different we flip\n",
    "# the image so it fits the filtration printed, it has no impact on the computations.\n",
    "plt.imshow(np.flip(img,axis=0))\n",
    "plt.show()\n",
    "\n",
    "# Creating the compelx using Eucalc\n",
    "cplx = eucalc.EmbeddedComplex(img)\n",
    "cplx.print_filtration()"
   ]
  },
  {
   "cell_type": "code",
   "execution_count": null,
   "id": "b8c7d01a-7ccb-4ccb-abcc-516d45466a57",
   "metadata": {},
   "outputs": [],
   "source": []
  },
  {
   "cell_type": "code",
   "execution_count": null,
   "id": "3ad4276c-6a36-4302-8901-da70c2030685",
   "metadata": {},
   "outputs": [],
   "source": []
  },
  {
   "cell_type": "code",
   "execution_count": null,
   "id": "2e8d98d3-3d27-47ec-9e30-43e565629294",
   "metadata": {},
   "outputs": [],
   "source": []
  },
  {
   "cell_type": "code",
   "execution_count": null,
   "id": "3c32ed38-d260-457d-a344-5bd8fffd3815",
   "metadata": {},
   "outputs": [],
   "source": []
  }
 ],
 "metadata": {
  "kernelspec": {
   "display_name": "Python 3 (ipykernel)",
   "language": "python",
   "name": "python3"
  },
  "language_info": {
   "codemirror_mode": {
    "name": "ipython",
    "version": 3
   },
   "file_extension": ".py",
   "mimetype": "text/x-python",
   "name": "python",
   "nbconvert_exporter": "python",
   "pygments_lexer": "ipython3",
   "version": "3.10.12"
  }
 },
 "nbformat": 4,
 "nbformat_minor": 5
}
